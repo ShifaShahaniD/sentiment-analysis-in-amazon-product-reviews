{
  "nbformat": 4,
  "nbformat_minor": 0,
  "metadata": {
    "colab": {
      "provenance": [],
      "include_colab_link": true
    },
    "kernelspec": {
      "name": "python3",
      "display_name": "Python 3"
    },
    "language_info": {
      "name": "python"
    }
  },
  "cells": [
    {
      "cell_type": "markdown",
      "metadata": {
        "id": "view-in-github",
        "colab_type": "text"
      },
      "source": [
        "<a href=\"https://colab.research.google.com/github/ShifaShahaniD/sentiment-analysis-in-amazon-product-reviews-using-BiGRU/blob/main/LSTM_IMPLEMENTATION.ipynb\" target=\"_parent\"><img src=\"https://colab.research.google.com/assets/colab-badge.svg\" alt=\"Open In Colab\"/></a>"
      ]
    },
    {
      "cell_type": "code",
      "execution_count": null,
      "metadata": {
        "colab": {
          "base_uri": "https://localhost:8080/",
          "height": 206
        },
        "id": "c1tvLwaok0bs",
        "outputId": "88b50e77-cb38-4d05-fff5-670192f76705"
      },
      "outputs": [
        {
          "output_type": "execute_result",
          "data": {
            "text/html": [
              "\n",
              "  <div id=\"df-362716ae-ee71-44b7-b56b-626f1410d42e\">\n",
              "    <div class=\"colab-df-container\">\n",
              "      <div>\n",
              "<style scoped>\n",
              "    .dataframe tbody tr th:only-of-type {\n",
              "        vertical-align: middle;\n",
              "    }\n",
              "\n",
              "    .dataframe tbody tr th {\n",
              "        vertical-align: top;\n",
              "    }\n",
              "\n",
              "    .dataframe thead th {\n",
              "        text-align: right;\n",
              "    }\n",
              "</style>\n",
              "<table border=\"1\" class=\"dataframe\">\n",
              "  <thead>\n",
              "    <tr style=\"text-align: right;\">\n",
              "      <th></th>\n",
              "      <th>Summary</th>\n",
              "      <th>Unnamed: 1</th>\n",
              "      <th>Unnamed: 2</th>\n",
              "      <th>Unnamed: 3</th>\n",
              "      <th>Unnamed: 4</th>\n",
              "      <th>Unnamed: 5</th>\n",
              "      <th>Score</th>\n",
              "    </tr>\n",
              "  </thead>\n",
              "  <tbody>\n",
              "    <tr>\n",
              "      <th>0</th>\n",
              "      <td>Good Quality Dog Food</td>\n",
              "      <td>NaN</td>\n",
              "      <td>NaN</td>\n",
              "      <td>NaN</td>\n",
              "      <td>NaN</td>\n",
              "      <td>NaN</td>\n",
              "      <td>5</td>\n",
              "    </tr>\n",
              "    <tr>\n",
              "      <th>1</th>\n",
              "      <td>Not as Advertised</td>\n",
              "      <td>NaN</td>\n",
              "      <td>NaN</td>\n",
              "      <td>NaN</td>\n",
              "      <td>NaN</td>\n",
              "      <td>NaN</td>\n",
              "      <td>1</td>\n",
              "    </tr>\n",
              "    <tr>\n",
              "      <th>2</th>\n",
              "      <td>\"Delight\" says it all</td>\n",
              "      <td>NaN</td>\n",
              "      <td>NaN</td>\n",
              "      <td>NaN</td>\n",
              "      <td>NaN</td>\n",
              "      <td>NaN</td>\n",
              "      <td>4</td>\n",
              "    </tr>\n",
              "    <tr>\n",
              "      <th>3</th>\n",
              "      <td>Cough Medicine</td>\n",
              "      <td>NaN</td>\n",
              "      <td>NaN</td>\n",
              "      <td>NaN</td>\n",
              "      <td>NaN</td>\n",
              "      <td>NaN</td>\n",
              "      <td>2</td>\n",
              "    </tr>\n",
              "    <tr>\n",
              "      <th>4</th>\n",
              "      <td>Great taffy</td>\n",
              "      <td>NaN</td>\n",
              "      <td>NaN</td>\n",
              "      <td>NaN</td>\n",
              "      <td>NaN</td>\n",
              "      <td>NaN</td>\n",
              "      <td>5</td>\n",
              "    </tr>\n",
              "  </tbody>\n",
              "</table>\n",
              "</div>\n",
              "      <button class=\"colab-df-convert\" onclick=\"convertToInteractive('df-362716ae-ee71-44b7-b56b-626f1410d42e')\"\n",
              "              title=\"Convert this dataframe to an interactive table.\"\n",
              "              style=\"display:none;\">\n",
              "        \n",
              "  <svg xmlns=\"http://www.w3.org/2000/svg\" height=\"24px\"viewBox=\"0 0 24 24\"\n",
              "       width=\"24px\">\n",
              "    <path d=\"M0 0h24v24H0V0z\" fill=\"none\"/>\n",
              "    <path d=\"M18.56 5.44l.94 2.06.94-2.06 2.06-.94-2.06-.94-.94-2.06-.94 2.06-2.06.94zm-11 1L8.5 8.5l.94-2.06 2.06-.94-2.06-.94L8.5 2.5l-.94 2.06-2.06.94zm10 10l.94 2.06.94-2.06 2.06-.94-2.06-.94-.94-2.06-.94 2.06-2.06.94z\"/><path d=\"M17.41 7.96l-1.37-1.37c-.4-.4-.92-.59-1.43-.59-.52 0-1.04.2-1.43.59L10.3 9.45l-7.72 7.72c-.78.78-.78 2.05 0 2.83L4 21.41c.39.39.9.59 1.41.59.51 0 1.02-.2 1.41-.59l7.78-7.78 2.81-2.81c.8-.78.8-2.07 0-2.86zM5.41 20L4 18.59l7.72-7.72 1.47 1.35L5.41 20z\"/>\n",
              "  </svg>\n",
              "      </button>\n",
              "      \n",
              "  <style>\n",
              "    .colab-df-container {\n",
              "      display:flex;\n",
              "      flex-wrap:wrap;\n",
              "      gap: 12px;\n",
              "    }\n",
              "\n",
              "    .colab-df-convert {\n",
              "      background-color: #E8F0FE;\n",
              "      border: none;\n",
              "      border-radius: 50%;\n",
              "      cursor: pointer;\n",
              "      display: none;\n",
              "      fill: #1967D2;\n",
              "      height: 32px;\n",
              "      padding: 0 0 0 0;\n",
              "      width: 32px;\n",
              "    }\n",
              "\n",
              "    .colab-df-convert:hover {\n",
              "      background-color: #E2EBFA;\n",
              "      box-shadow: 0px 1px 2px rgba(60, 64, 67, 0.3), 0px 1px 3px 1px rgba(60, 64, 67, 0.15);\n",
              "      fill: #174EA6;\n",
              "    }\n",
              "\n",
              "    [theme=dark] .colab-df-convert {\n",
              "      background-color: #3B4455;\n",
              "      fill: #D2E3FC;\n",
              "    }\n",
              "\n",
              "    [theme=dark] .colab-df-convert:hover {\n",
              "      background-color: #434B5C;\n",
              "      box-shadow: 0px 1px 3px 1px rgba(0, 0, 0, 0.15);\n",
              "      filter: drop-shadow(0px 1px 2px rgba(0, 0, 0, 0.3));\n",
              "      fill: #FFFFFF;\n",
              "    }\n",
              "  </style>\n",
              "\n",
              "      <script>\n",
              "        const buttonEl =\n",
              "          document.querySelector('#df-362716ae-ee71-44b7-b56b-626f1410d42e button.colab-df-convert');\n",
              "        buttonEl.style.display =\n",
              "          google.colab.kernel.accessAllowed ? 'block' : 'none';\n",
              "\n",
              "        async function convertToInteractive(key) {\n",
              "          const element = document.querySelector('#df-362716ae-ee71-44b7-b56b-626f1410d42e');\n",
              "          const dataTable =\n",
              "            await google.colab.kernel.invokeFunction('convertToInteractive',\n",
              "                                                     [key], {});\n",
              "          if (!dataTable) return;\n",
              "\n",
              "          const docLinkHtml = 'Like what you see? Visit the ' +\n",
              "            '<a target=\"_blank\" href=https://colab.research.google.com/notebooks/data_table.ipynb>data table notebook</a>'\n",
              "            + ' to learn more about interactive tables.';\n",
              "          element.innerHTML = '';\n",
              "          dataTable['output_type'] = 'display_data';\n",
              "          await google.colab.output.renderOutput(dataTable, element);\n",
              "          const docLink = document.createElement('div');\n",
              "          docLink.innerHTML = docLinkHtml;\n",
              "          element.appendChild(docLink);\n",
              "        }\n",
              "      </script>\n",
              "    </div>\n",
              "  </div>\n",
              "  "
            ],
            "text/plain": [
              "                 Summary  Unnamed: 1  Unnamed: 2  ...  Unnamed: 4  Unnamed: 5  Score\n",
              "0  Good Quality Dog Food         NaN         NaN  ...         NaN         NaN      5\n",
              "1      Not as Advertised         NaN         NaN  ...         NaN         NaN      1\n",
              "2  \"Delight\" says it all         NaN         NaN  ...         NaN         NaN      4\n",
              "3         Cough Medicine         NaN         NaN  ...         NaN         NaN      2\n",
              "4            Great taffy         NaN         NaN  ...         NaN         NaN      5\n",
              "\n",
              "[5 rows x 7 columns]"
            ]
          },
          "metadata": {},
          "execution_count": 4
        }
      ],
      "source": [
        "import pandas as pd\n",
        "df = pd.read_csv(\"/content/review (1).csv\")\n",
        "df.head()"
      ]
    },
    {
      "cell_type": "code",
      "source": [
        "review_df = df[['Summary','Score']]\n",
        "\n",
        "print(review_df.shape)\n",
        "review_df.head(5)"
      ],
      "metadata": {
        "colab": {
          "base_uri": "https://localhost:8080/",
          "height": 223
        },
        "id": "62TWt_-1lk4_",
        "outputId": "783d7b27-7ca3-4a8c-83b5-6b2f2a7aca33"
      },
      "execution_count": null,
      "outputs": [
        {
          "output_type": "stream",
          "name": "stdout",
          "text": [
            "(5999, 2)\n"
          ]
        },
        {
          "output_type": "execute_result",
          "data": {
            "text/html": [
              "\n",
              "  <div id=\"df-e4f9c2da-f281-4f5b-afaf-26f111448dfc\">\n",
              "    <div class=\"colab-df-container\">\n",
              "      <div>\n",
              "<style scoped>\n",
              "    .dataframe tbody tr th:only-of-type {\n",
              "        vertical-align: middle;\n",
              "    }\n",
              "\n",
              "    .dataframe tbody tr th {\n",
              "        vertical-align: top;\n",
              "    }\n",
              "\n",
              "    .dataframe thead th {\n",
              "        text-align: right;\n",
              "    }\n",
              "</style>\n",
              "<table border=\"1\" class=\"dataframe\">\n",
              "  <thead>\n",
              "    <tr style=\"text-align: right;\">\n",
              "      <th></th>\n",
              "      <th>Summary</th>\n",
              "      <th>Score</th>\n",
              "    </tr>\n",
              "  </thead>\n",
              "  <tbody>\n",
              "    <tr>\n",
              "      <th>0</th>\n",
              "      <td>Good Quality Dog Food</td>\n",
              "      <td>5</td>\n",
              "    </tr>\n",
              "    <tr>\n",
              "      <th>1</th>\n",
              "      <td>Not as Advertised</td>\n",
              "      <td>1</td>\n",
              "    </tr>\n",
              "    <tr>\n",
              "      <th>2</th>\n",
              "      <td>\"Delight\" says it all</td>\n",
              "      <td>4</td>\n",
              "    </tr>\n",
              "    <tr>\n",
              "      <th>3</th>\n",
              "      <td>Cough Medicine</td>\n",
              "      <td>2</td>\n",
              "    </tr>\n",
              "    <tr>\n",
              "      <th>4</th>\n",
              "      <td>Great taffy</td>\n",
              "      <td>5</td>\n",
              "    </tr>\n",
              "  </tbody>\n",
              "</table>\n",
              "</div>\n",
              "      <button class=\"colab-df-convert\" onclick=\"convertToInteractive('df-e4f9c2da-f281-4f5b-afaf-26f111448dfc')\"\n",
              "              title=\"Convert this dataframe to an interactive table.\"\n",
              "              style=\"display:none;\">\n",
              "        \n",
              "  <svg xmlns=\"http://www.w3.org/2000/svg\" height=\"24px\"viewBox=\"0 0 24 24\"\n",
              "       width=\"24px\">\n",
              "    <path d=\"M0 0h24v24H0V0z\" fill=\"none\"/>\n",
              "    <path d=\"M18.56 5.44l.94 2.06.94-2.06 2.06-.94-2.06-.94-.94-2.06-.94 2.06-2.06.94zm-11 1L8.5 8.5l.94-2.06 2.06-.94-2.06-.94L8.5 2.5l-.94 2.06-2.06.94zm10 10l.94 2.06.94-2.06 2.06-.94-2.06-.94-.94-2.06-.94 2.06-2.06.94z\"/><path d=\"M17.41 7.96l-1.37-1.37c-.4-.4-.92-.59-1.43-.59-.52 0-1.04.2-1.43.59L10.3 9.45l-7.72 7.72c-.78.78-.78 2.05 0 2.83L4 21.41c.39.39.9.59 1.41.59.51 0 1.02-.2 1.41-.59l7.78-7.78 2.81-2.81c.8-.78.8-2.07 0-2.86zM5.41 20L4 18.59l7.72-7.72 1.47 1.35L5.41 20z\"/>\n",
              "  </svg>\n",
              "      </button>\n",
              "      \n",
              "  <style>\n",
              "    .colab-df-container {\n",
              "      display:flex;\n",
              "      flex-wrap:wrap;\n",
              "      gap: 12px;\n",
              "    }\n",
              "\n",
              "    .colab-df-convert {\n",
              "      background-color: #E8F0FE;\n",
              "      border: none;\n",
              "      border-radius: 50%;\n",
              "      cursor: pointer;\n",
              "      display: none;\n",
              "      fill: #1967D2;\n",
              "      height: 32px;\n",
              "      padding: 0 0 0 0;\n",
              "      width: 32px;\n",
              "    }\n",
              "\n",
              "    .colab-df-convert:hover {\n",
              "      background-color: #E2EBFA;\n",
              "      box-shadow: 0px 1px 2px rgba(60, 64, 67, 0.3), 0px 1px 3px 1px rgba(60, 64, 67, 0.15);\n",
              "      fill: #174EA6;\n",
              "    }\n",
              "\n",
              "    [theme=dark] .colab-df-convert {\n",
              "      background-color: #3B4455;\n",
              "      fill: #D2E3FC;\n",
              "    }\n",
              "\n",
              "    [theme=dark] .colab-df-convert:hover {\n",
              "      background-color: #434B5C;\n",
              "      box-shadow: 0px 1px 3px 1px rgba(0, 0, 0, 0.15);\n",
              "      filter: drop-shadow(0px 1px 2px rgba(0, 0, 0, 0.3));\n",
              "      fill: #FFFFFF;\n",
              "    }\n",
              "  </style>\n",
              "\n",
              "      <script>\n",
              "        const buttonEl =\n",
              "          document.querySelector('#df-e4f9c2da-f281-4f5b-afaf-26f111448dfc button.colab-df-convert');\n",
              "        buttonEl.style.display =\n",
              "          google.colab.kernel.accessAllowed ? 'block' : 'none';\n",
              "\n",
              "        async function convertToInteractive(key) {\n",
              "          const element = document.querySelector('#df-e4f9c2da-f281-4f5b-afaf-26f111448dfc');\n",
              "          const dataTable =\n",
              "            await google.colab.kernel.invokeFunction('convertToInteractive',\n",
              "                                                     [key], {});\n",
              "          if (!dataTable) return;\n",
              "\n",
              "          const docLinkHtml = 'Like what you see? Visit the ' +\n",
              "            '<a target=\"_blank\" href=https://colab.research.google.com/notebooks/data_table.ipynb>data table notebook</a>'\n",
              "            + ' to learn more about interactive tables.';\n",
              "          element.innerHTML = '';\n",
              "          dataTable['output_type'] = 'display_data';\n",
              "          await google.colab.output.renderOutput(dataTable, element);\n",
              "          const docLink = document.createElement('div');\n",
              "          docLink.innerHTML = docLinkHtml;\n",
              "          element.appendChild(docLink);\n",
              "        }\n",
              "      </script>\n",
              "    </div>\n",
              "  </div>\n",
              "  "
            ],
            "text/plain": [
              "                 Summary  Score\n",
              "0  Good Quality Dog Food      5\n",
              "1      Not as Advertised      1\n",
              "2  \"Delight\" says it all      4\n",
              "3         Cough Medicine      2\n",
              "4            Great taffy      5"
            ]
          },
          "metadata": {},
          "execution_count": 5
        }
      ]
    },
    {
      "cell_type": "code",
      "source": [
        "df.columns"
      ],
      "metadata": {
        "colab": {
          "base_uri": "https://localhost:8080/"
        },
        "id": "ItdtmIJul4qH",
        "outputId": "5a297d19-6834-4bd1-d81a-b5055b99d5d8"
      },
      "execution_count": null,
      "outputs": [
        {
          "output_type": "execute_result",
          "data": {
            "text/plain": [
              "Index(['Summary', 'Unnamed: 1', 'Unnamed: 2', 'Unnamed: 3', 'Unnamed: 4',\n",
              "       'Unnamed: 5', 'Score'],\n",
              "      dtype='object')"
            ]
          },
          "metadata": {},
          "execution_count": 6
        }
      ]
    },
    {
      "cell_type": "code",
      "source": [
        "review_df[\"Score\"].value_counts()"
      ],
      "metadata": {
        "colab": {
          "base_uri": "https://localhost:8080/"
        },
        "id": "t3DCTFQOl645",
        "outputId": "dc72c579-1208-4bb0-d9c3-ad66e01fb470"
      },
      "execution_count": null,
      "outputs": [
        {
          "output_type": "execute_result",
          "data": {
            "text/plain": [
              "5    3837\n",
              "4     811\n",
              "1     557\n",
              "3     457\n",
              "2     337\n",
              "Name: Score, dtype: int64"
            ]
          },
          "metadata": {},
          "execution_count": 7
        }
      ]
    },
    {
      "cell_type": "code",
      "source": [
        "df[\"Sentiment\"] = df[\"Score\"].apply(lambda score: \"positive\" if score >= 3 else \"negative\")\n",
        "df['Sentiment'] = df['Sentiment'].map({'positive':'Positive', 'negative':'Negative'})\n",
        "#df['short_review'] =df['data/review_body'].str.decode(\"utf-8\")\n",
        "df = df[[\"Summary\", \"Sentiment\"]]"
      ],
      "metadata": {
        "id": "2WuzxoFgl9G2"
      },
      "execution_count": null,
      "outputs": []
    },
    {
      "cell_type": "code",
      "source": [
        "df"
      ],
      "metadata": {
        "colab": {
          "base_uri": "https://localhost:8080/",
          "height": 423
        },
        "id": "b-1i4vcmmJ-h",
        "outputId": "2f3fc58d-7f3a-403c-d134-83252c710e41"
      },
      "execution_count": null,
      "outputs": [
        {
          "output_type": "execute_result",
          "data": {
            "text/html": [
              "\n",
              "  <div id=\"df-a64ef9ed-c420-467a-8446-5e0420fff35f\">\n",
              "    <div class=\"colab-df-container\">\n",
              "      <div>\n",
              "<style scoped>\n",
              "    .dataframe tbody tr th:only-of-type {\n",
              "        vertical-align: middle;\n",
              "    }\n",
              "\n",
              "    .dataframe tbody tr th {\n",
              "        vertical-align: top;\n",
              "    }\n",
              "\n",
              "    .dataframe thead th {\n",
              "        text-align: right;\n",
              "    }\n",
              "</style>\n",
              "<table border=\"1\" class=\"dataframe\">\n",
              "  <thead>\n",
              "    <tr style=\"text-align: right;\">\n",
              "      <th></th>\n",
              "      <th>Summary</th>\n",
              "      <th>Sentiment</th>\n",
              "    </tr>\n",
              "  </thead>\n",
              "  <tbody>\n",
              "    <tr>\n",
              "      <th>0</th>\n",
              "      <td>Good Quality Dog Food</td>\n",
              "      <td>Positive</td>\n",
              "    </tr>\n",
              "    <tr>\n",
              "      <th>1</th>\n",
              "      <td>Not as Advertised</td>\n",
              "      <td>Negative</td>\n",
              "    </tr>\n",
              "    <tr>\n",
              "      <th>2</th>\n",
              "      <td>\"Delight\" says it all</td>\n",
              "      <td>Positive</td>\n",
              "    </tr>\n",
              "    <tr>\n",
              "      <th>3</th>\n",
              "      <td>Cough Medicine</td>\n",
              "      <td>Negative</td>\n",
              "    </tr>\n",
              "    <tr>\n",
              "      <th>4</th>\n",
              "      <td>Great taffy</td>\n",
              "      <td>Positive</td>\n",
              "    </tr>\n",
              "    <tr>\n",
              "      <th>...</th>\n",
              "      <td>...</td>\n",
              "      <td>...</td>\n",
              "    </tr>\n",
              "    <tr>\n",
              "      <th>5994</th>\n",
              "      <td>«:::D:::» «:::E:::» «:::L:::» «:::I:::» «:::C:...</td>\n",
              "      <td>Positive</td>\n",
              "    </tr>\n",
              "    <tr>\n",
              "      <th>5995</th>\n",
              "      <td>This is not that great</td>\n",
              "      <td>Negative</td>\n",
              "    </tr>\n",
              "    <tr>\n",
              "      <th>5996</th>\n",
              "      <td>The \"paws down\" favorite among canned food!</td>\n",
              "      <td>Positive</td>\n",
              "    </tr>\n",
              "    <tr>\n",
              "      <th>5997</th>\n",
              "      <td>Worked great for my cat</td>\n",
              "      <td>Positive</td>\n",
              "    </tr>\n",
              "    <tr>\n",
              "      <th>5998</th>\n",
              "      <td>IBD food that my cat will actually eat!!!!!!!!</td>\n",
              "      <td>Positive</td>\n",
              "    </tr>\n",
              "  </tbody>\n",
              "</table>\n",
              "<p>5999 rows × 2 columns</p>\n",
              "</div>\n",
              "      <button class=\"colab-df-convert\" onclick=\"convertToInteractive('df-a64ef9ed-c420-467a-8446-5e0420fff35f')\"\n",
              "              title=\"Convert this dataframe to an interactive table.\"\n",
              "              style=\"display:none;\">\n",
              "        \n",
              "  <svg xmlns=\"http://www.w3.org/2000/svg\" height=\"24px\"viewBox=\"0 0 24 24\"\n",
              "       width=\"24px\">\n",
              "    <path d=\"M0 0h24v24H0V0z\" fill=\"none\"/>\n",
              "    <path d=\"M18.56 5.44l.94 2.06.94-2.06 2.06-.94-2.06-.94-.94-2.06-.94 2.06-2.06.94zm-11 1L8.5 8.5l.94-2.06 2.06-.94-2.06-.94L8.5 2.5l-.94 2.06-2.06.94zm10 10l.94 2.06.94-2.06 2.06-.94-2.06-.94-.94-2.06-.94 2.06-2.06.94z\"/><path d=\"M17.41 7.96l-1.37-1.37c-.4-.4-.92-.59-1.43-.59-.52 0-1.04.2-1.43.59L10.3 9.45l-7.72 7.72c-.78.78-.78 2.05 0 2.83L4 21.41c.39.39.9.59 1.41.59.51 0 1.02-.2 1.41-.59l7.78-7.78 2.81-2.81c.8-.78.8-2.07 0-2.86zM5.41 20L4 18.59l7.72-7.72 1.47 1.35L5.41 20z\"/>\n",
              "  </svg>\n",
              "      </button>\n",
              "      \n",
              "  <style>\n",
              "    .colab-df-container {\n",
              "      display:flex;\n",
              "      flex-wrap:wrap;\n",
              "      gap: 12px;\n",
              "    }\n",
              "\n",
              "    .colab-df-convert {\n",
              "      background-color: #E8F0FE;\n",
              "      border: none;\n",
              "      border-radius: 50%;\n",
              "      cursor: pointer;\n",
              "      display: none;\n",
              "      fill: #1967D2;\n",
              "      height: 32px;\n",
              "      padding: 0 0 0 0;\n",
              "      width: 32px;\n",
              "    }\n",
              "\n",
              "    .colab-df-convert:hover {\n",
              "      background-color: #E2EBFA;\n",
              "      box-shadow: 0px 1px 2px rgba(60, 64, 67, 0.3), 0px 1px 3px 1px rgba(60, 64, 67, 0.15);\n",
              "      fill: #174EA6;\n",
              "    }\n",
              "\n",
              "    [theme=dark] .colab-df-convert {\n",
              "      background-color: #3B4455;\n",
              "      fill: #D2E3FC;\n",
              "    }\n",
              "\n",
              "    [theme=dark] .colab-df-convert:hover {\n",
              "      background-color: #434B5C;\n",
              "      box-shadow: 0px 1px 3px 1px rgba(0, 0, 0, 0.15);\n",
              "      filter: drop-shadow(0px 1px 2px rgba(0, 0, 0, 0.3));\n",
              "      fill: #FFFFFF;\n",
              "    }\n",
              "  </style>\n",
              "\n",
              "      <script>\n",
              "        const buttonEl =\n",
              "          document.querySelector('#df-a64ef9ed-c420-467a-8446-5e0420fff35f button.colab-df-convert');\n",
              "        buttonEl.style.display =\n",
              "          google.colab.kernel.accessAllowed ? 'block' : 'none';\n",
              "\n",
              "        async function convertToInteractive(key) {\n",
              "          const element = document.querySelector('#df-a64ef9ed-c420-467a-8446-5e0420fff35f');\n",
              "          const dataTable =\n",
              "            await google.colab.kernel.invokeFunction('convertToInteractive',\n",
              "                                                     [key], {});\n",
              "          if (!dataTable) return;\n",
              "\n",
              "          const docLinkHtml = 'Like what you see? Visit the ' +\n",
              "            '<a target=\"_blank\" href=https://colab.research.google.com/notebooks/data_table.ipynb>data table notebook</a>'\n",
              "            + ' to learn more about interactive tables.';\n",
              "          element.innerHTML = '';\n",
              "          dataTable['output_type'] = 'display_data';\n",
              "          await google.colab.output.renderOutput(dataTable, element);\n",
              "          const docLink = document.createElement('div');\n",
              "          docLink.innerHTML = docLinkHtml;\n",
              "          element.appendChild(docLink);\n",
              "        }\n",
              "      </script>\n",
              "    </div>\n",
              "  </div>\n",
              "  "
            ],
            "text/plain": [
              "                                                Summary Sentiment\n",
              "0                                 Good Quality Dog Food  Positive\n",
              "1                                     Not as Advertised  Negative\n",
              "2                                 \"Delight\" says it all  Positive\n",
              "3                                        Cough Medicine  Negative\n",
              "4                                           Great taffy  Positive\n",
              "...                                                 ...       ...\n",
              "5994  «:::D:::» «:::E:::» «:::L:::» «:::I:::» «:::C:...  Positive\n",
              "5995                             This is not that great  Negative\n",
              "5996        The \"paws down\" favorite among canned food!  Positive\n",
              "5997                            Worked great for my cat  Positive\n",
              "5998     IBD food that my cat will actually eat!!!!!!!!  Positive\n",
              "\n",
              "[5999 rows x 2 columns]"
            ]
          },
          "metadata": {},
          "execution_count": 9
        }
      ]
    },
    {
      "cell_type": "code",
      "source": [
        "rev = review_df.Summary.values"
      ],
      "metadata": {
        "id": "H-_9WA1-mLJy"
      },
      "execution_count": null,
      "outputs": []
    },
    {
      "cell_type": "code",
      "source": [
        "df[\"Sentiment\"].value_counts()"
      ],
      "metadata": {
        "colab": {
          "base_uri": "https://localhost:8080/"
        },
        "id": "tfFqOnilmOVz",
        "outputId": "ca9f581f-b9fa-4040-e05b-13928d99aafd"
      },
      "execution_count": null,
      "outputs": [
        {
          "output_type": "execute_result",
          "data": {
            "text/plain": [
              "Positive    5105\n",
              "Negative     894\n",
              "Name: Sentiment, dtype: int64"
            ]
          },
          "metadata": {},
          "execution_count": 11
        }
      ]
    },
    {
      "cell_type": "code",
      "source": [
        "sentiment_label = df.Sentiment.factorize()\n",
        "sentiment_label"
      ],
      "metadata": {
        "colab": {
          "base_uri": "https://localhost:8080/"
        },
        "id": "Y_5l_eLImU7N",
        "outputId": "ad45743f-f29b-44ef-ce63-1cd67adc3e5c"
      },
      "execution_count": null,
      "outputs": [
        {
          "output_type": "execute_result",
          "data": {
            "text/plain": [
              "(array([0, 1, 0, ..., 0, 0, 0]),\n",
              " Index(['Positive', 'Negative'], dtype='object'))"
            ]
          },
          "metadata": {},
          "execution_count": 12
        }
      ]
    },
    {
      "cell_type": "code",
      "source": [
        "from tensorflow.keras.preprocessing.text import Tokenizer\n",
        "\n",
        "tokenizer = Tokenizer(num_words=5000)\n",
        "\n",
        "tokenizer.fit_on_texts(rev)"
      ],
      "metadata": {
        "id": "54SB4wRxnNE7"
      },
      "execution_count": null,
      "outputs": []
    },
    {
      "cell_type": "code",
      "source": [
        "encoded_docs = tokenizer.texts_to_sequences(rev)"
      ],
      "metadata": {
        "id": "Liw5zbnxnRw1"
      },
      "execution_count": null,
      "outputs": []
    },
    {
      "cell_type": "code",
      "source": [
        "from tensorflow.keras.preprocessing.sequence import pad_sequences\n",
        "\n",
        "padded_sequence = pad_sequences(encoded_docs, maxlen=200)"
      ],
      "metadata": {
        "id": "3dcSxSlanUo_"
      },
      "execution_count": null,
      "outputs": []
    },
    {
      "cell_type": "code",
      "source": [
        "from tensorflow.keras.models import Sequential\n",
        "from tensorflow.keras.layers import LSTM,Dense, Dropout, SpatialDropout1D\n",
        "from tensorflow.keras.layers import Embedding"
      ],
      "metadata": {
        "id": "PIYII0UtnWlb"
      },
      "execution_count": null,
      "outputs": []
    },
    {
      "cell_type": "code",
      "source": [
        "vocab_size = 13234\n",
        "embedding_vector_length = 40\n",
        "model = Sequential()\n",
        "model.add(Embedding(vocab_size, embedding_vector_length, input_length=200))\n",
        "model.add(SpatialDropout1D(0.25))\n",
        "model.add(LSTM(50, dropout=0.5, recurrent_dropout=0.5))\n",
        "model.add(Dropout(0.2))\n",
        "model.add(Dense(1, activation='sigmoid'))\n",
        "model.compile(loss='binary_crossentropy',optimizer='adam', metrics=['accuracy'])"
      ],
      "metadata": {
        "id": "z7SA9RY7nYp6"
      },
      "execution_count": null,
      "outputs": []
    },
    {
      "cell_type": "code",
      "source": [
        "print(model.summary())"
      ],
      "metadata": {
        "colab": {
          "base_uri": "https://localhost:8080/"
        },
        "id": "a7Pooyp_nb0C",
        "outputId": "1ee9ef1f-9f77-47ad-82c2-7db101912eca"
      },
      "execution_count": null,
      "outputs": [
        {
          "output_type": "stream",
          "name": "stdout",
          "text": [
            "Model: \"sequential\"\n",
            "_________________________________________________________________\n",
            " Layer (type)                Output Shape              Param #   \n",
            "=================================================================\n",
            " embedding (Embedding)       (None, 200, 40)           529360    \n",
            "                                                                 \n",
            " spatial_dropout1d (SpatialD  (None, 200, 40)          0         \n",
            " ropout1D)                                                       \n",
            "                                                                 \n",
            " lstm (LSTM)                 (None, 50)                18200     \n",
            "                                                                 \n",
            " dropout (Dropout)           (None, 50)                0         \n",
            "                                                                 \n",
            " dense (Dense)               (None, 1)                 51        \n",
            "                                                                 \n",
            "=================================================================\n",
            "Total params: 547,611\n",
            "Trainable params: 547,611\n",
            "Non-trainable params: 0\n",
            "_________________________________________________________________\n",
            "None\n"
          ]
        }
      ]
    },
    {
      "cell_type": "code",
      "source": [
        "history = model.fit(padded_sequence,sentiment_label[0],validation_split=0.2, epochs=50, batch_size=32)"
      ],
      "metadata": {
        "colab": {
          "base_uri": "https://localhost:8080/"
        },
        "id": "JqJHfWgzndju",
        "outputId": "b8a56135-ae68-4333-893b-2511c3d26eeb"
      },
      "execution_count": null,
      "outputs": [
        {
          "output_type": "stream",
          "name": "stdout",
          "text": [
            "Epoch 1/50\n",
            "150/150 [==============================] - 43s 264ms/step - loss: 0.4466 - accuracy: 0.8446 - val_loss: 0.3781 - val_accuracy: 0.8633\n",
            "Epoch 2/50\n",
            "150/150 [==============================] - 39s 261ms/step - loss: 0.3367 - accuracy: 0.8546 - val_loss: 0.2956 - val_accuracy: 0.8800\n",
            "Epoch 3/50\n",
            "150/150 [==============================] - 39s 262ms/step - loss: 0.2357 - accuracy: 0.9010 - val_loss: 0.2921 - val_accuracy: 0.8917\n",
            "Epoch 4/50\n",
            "150/150 [==============================] - 39s 261ms/step - loss: 0.1850 - accuracy: 0.9267 - val_loss: 0.2991 - val_accuracy: 0.8925\n",
            "Epoch 5/50\n",
            "150/150 [==============================] - 39s 261ms/step - loss: 0.1577 - accuracy: 0.9419 - val_loss: 0.3182 - val_accuracy: 0.8858\n",
            "Epoch 6/50\n",
            "150/150 [==============================] - 39s 259ms/step - loss: 0.1327 - accuracy: 0.9523 - val_loss: 0.3397 - val_accuracy: 0.8742\n",
            "Epoch 7/50\n",
            "150/150 [==============================] - 39s 261ms/step - loss: 0.1212 - accuracy: 0.9544 - val_loss: 0.3517 - val_accuracy: 0.8833\n",
            "Epoch 8/50\n",
            "150/150 [==============================] - 39s 260ms/step - loss: 0.1124 - accuracy: 0.9596 - val_loss: 0.3706 - val_accuracy: 0.8717\n",
            "Epoch 9/50\n",
            "150/150 [==============================] - 39s 262ms/step - loss: 0.1026 - accuracy: 0.9631 - val_loss: 0.3860 - val_accuracy: 0.8700\n",
            "Epoch 10/50\n",
            "150/150 [==============================] - 39s 262ms/step - loss: 0.0982 - accuracy: 0.9625 - val_loss: 0.3923 - val_accuracy: 0.8608\n",
            "Epoch 11/50\n",
            "150/150 [==============================] - 39s 262ms/step - loss: 0.0876 - accuracy: 0.9704 - val_loss: 0.4300 - val_accuracy: 0.8783\n",
            "Epoch 12/50\n",
            "150/150 [==============================] - 39s 263ms/step - loss: 0.0861 - accuracy: 0.9675 - val_loss: 0.4225 - val_accuracy: 0.8583\n",
            "Epoch 13/50\n",
            "150/150 [==============================] - 40s 265ms/step - loss: 0.0829 - accuracy: 0.9700 - val_loss: 0.4592 - val_accuracy: 0.8633\n",
            "Epoch 14/50\n",
            "150/150 [==============================] - 40s 264ms/step - loss: 0.1207 - accuracy: 0.9652 - val_loss: 0.3647 - val_accuracy: 0.8692\n",
            "Epoch 15/50\n",
            "150/150 [==============================] - 40s 264ms/step - loss: 0.0903 - accuracy: 0.9654 - val_loss: 0.4063 - val_accuracy: 0.8700\n",
            "Epoch 16/50\n",
            "150/150 [==============================] - 39s 262ms/step - loss: 0.0858 - accuracy: 0.9671 - val_loss: 0.4301 - val_accuracy: 0.8708\n",
            "Epoch 17/50\n",
            "150/150 [==============================] - 39s 263ms/step - loss: 0.0769 - accuracy: 0.9710 - val_loss: 0.4424 - val_accuracy: 0.8642\n",
            "Epoch 18/50\n",
            "150/150 [==============================] - 39s 261ms/step - loss: 0.0732 - accuracy: 0.9717 - val_loss: 0.4540 - val_accuracy: 0.8608\n",
            "Epoch 19/50\n",
            "150/150 [==============================] - 39s 261ms/step - loss: 0.0720 - accuracy: 0.9731 - val_loss: 0.4495 - val_accuracy: 0.8650\n",
            "Epoch 20/50\n",
            "150/150 [==============================] - 39s 263ms/step - loss: 0.0708 - accuracy: 0.9742 - val_loss: 0.4525 - val_accuracy: 0.8692\n",
            "Epoch 21/50\n",
            "150/150 [==============================] - 40s 264ms/step - loss: 0.0673 - accuracy: 0.9756 - val_loss: 0.4841 - val_accuracy: 0.8633\n",
            "Epoch 22/50\n",
            "150/150 [==============================] - 39s 262ms/step - loss: 0.0675 - accuracy: 0.9752 - val_loss: 0.4718 - val_accuracy: 0.8617\n",
            "Epoch 23/50\n",
            "150/150 [==============================] - 39s 261ms/step - loss: 0.0642 - accuracy: 0.9783 - val_loss: 0.4798 - val_accuracy: 0.8667\n",
            "Epoch 24/50\n",
            "150/150 [==============================] - 39s 261ms/step - loss: 0.0594 - accuracy: 0.9760 - val_loss: 0.4804 - val_accuracy: 0.8608\n",
            "Epoch 25/50\n",
            "150/150 [==============================] - 39s 262ms/step - loss: 0.0613 - accuracy: 0.9758 - val_loss: 0.5038 - val_accuracy: 0.8592\n",
            "Epoch 26/50\n",
            "150/150 [==============================] - 39s 261ms/step - loss: 0.0587 - accuracy: 0.9790 - val_loss: 0.4993 - val_accuracy: 0.8608\n",
            "Epoch 27/50\n",
            "150/150 [==============================] - 39s 261ms/step - loss: 0.0558 - accuracy: 0.9767 - val_loss: 0.5233 - val_accuracy: 0.8583\n",
            "Epoch 28/50\n",
            "150/150 [==============================] - 39s 261ms/step - loss: 0.0507 - accuracy: 0.9802 - val_loss: 0.5296 - val_accuracy: 0.8650\n",
            "Epoch 29/50\n",
            "150/150 [==============================] - 39s 263ms/step - loss: 0.0553 - accuracy: 0.9771 - val_loss: 0.5411 - val_accuracy: 0.8608\n",
            "Epoch 30/50\n",
            "150/150 [==============================] - 39s 263ms/step - loss: 0.0496 - accuracy: 0.9796 - val_loss: 0.5368 - val_accuracy: 0.8675\n",
            "Epoch 31/50\n",
            "150/150 [==============================] - 39s 262ms/step - loss: 0.0520 - accuracy: 0.9792 - val_loss: 0.5269 - val_accuracy: 0.8683\n",
            "Epoch 32/50\n",
            "150/150 [==============================] - 39s 261ms/step - loss: 0.0488 - accuracy: 0.9823 - val_loss: 0.5446 - val_accuracy: 0.8583\n",
            "Epoch 33/50\n",
            "150/150 [==============================] - 39s 260ms/step - loss: 0.0486 - accuracy: 0.9819 - val_loss: 0.5555 - val_accuracy: 0.8625\n",
            "Epoch 34/50\n",
            "150/150 [==============================] - 39s 261ms/step - loss: 0.0444 - accuracy: 0.9808 - val_loss: 0.5876 - val_accuracy: 0.8608\n",
            "Epoch 35/50\n",
            "150/150 [==============================] - 39s 262ms/step - loss: 0.0488 - accuracy: 0.9810 - val_loss: 0.5619 - val_accuracy: 0.8625\n",
            "Epoch 36/50\n",
            "150/150 [==============================] - 39s 262ms/step - loss: 0.0426 - accuracy: 0.9833 - val_loss: 0.5566 - val_accuracy: 0.8617\n",
            "Epoch 37/50\n",
            "150/150 [==============================] - 40s 264ms/step - loss: 0.0434 - accuracy: 0.9844 - val_loss: 0.5764 - val_accuracy: 0.8642\n",
            "Epoch 38/50\n",
            "150/150 [==============================] - 41s 271ms/step - loss: 0.0412 - accuracy: 0.9835 - val_loss: 0.6080 - val_accuracy: 0.8525\n",
            "Epoch 39/50\n",
            "150/150 [==============================] - 40s 267ms/step - loss: 0.0394 - accuracy: 0.9833 - val_loss: 0.5983 - val_accuracy: 0.8650\n",
            "Epoch 40/50\n",
            "150/150 [==============================] - 40s 264ms/step - loss: 0.0396 - accuracy: 0.9827 - val_loss: 0.5996 - val_accuracy: 0.8642\n",
            "Epoch 41/50\n",
            "150/150 [==============================] - 40s 267ms/step - loss: 0.0388 - accuracy: 0.9833 - val_loss: 0.6346 - val_accuracy: 0.8658\n",
            "Epoch 42/50\n",
            "150/150 [==============================] - 40s 264ms/step - loss: 0.0363 - accuracy: 0.9831 - val_loss: 0.6228 - val_accuracy: 0.8658\n",
            "Epoch 43/50\n",
            "150/150 [==============================] - 40s 264ms/step - loss: 0.0416 - accuracy: 0.9831 - val_loss: 0.6142 - val_accuracy: 0.8575\n",
            "Epoch 44/50\n",
            "150/150 [==============================] - 40s 265ms/step - loss: 0.0361 - accuracy: 0.9848 - val_loss: 0.6490 - val_accuracy: 0.8575\n",
            "Epoch 45/50\n",
            "150/150 [==============================] - 40s 266ms/step - loss: 0.0385 - accuracy: 0.9835 - val_loss: 0.6314 - val_accuracy: 0.8692\n",
            "Epoch 46/50\n",
            "150/150 [==============================] - 40s 266ms/step - loss: 0.0371 - accuracy: 0.9842 - val_loss: 0.6341 - val_accuracy: 0.8708\n",
            "Epoch 47/50\n",
            "150/150 [==============================] - 40s 264ms/step - loss: 0.0317 - accuracy: 0.9877 - val_loss: 0.6475 - val_accuracy: 0.8717\n",
            "Epoch 48/50\n",
            "150/150 [==============================] - 40s 267ms/step - loss: 0.0372 - accuracy: 0.9825 - val_loss: 0.6722 - val_accuracy: 0.8592\n",
            "Epoch 49/50\n",
            "150/150 [==============================] - 40s 266ms/step - loss: 0.0333 - accuracy: 0.9856 - val_loss: 0.6811 - val_accuracy: 0.8725\n",
            "Epoch 50/50\n",
            "150/150 [==============================] - 40s 266ms/step - loss: 0.0358 - accuracy: 0.9833 - val_loss: 0.7061 - val_accuracy: 0.8583\n"
          ]
        }
      ]
    },
    {
      "cell_type": "code",
      "source": [
        "import matplotlib.pyplot as plt\n",
        "\n",
        "plt.plot(history.history['accuracy'], label='accuracy')\n",
        "plt.plot(history.history['loss'], label='loss')\n",
        "plt.legend()\n",
        "plt.show()"
      ],
      "metadata": {
        "colab": {
          "base_uri": "https://localhost:8080/",
          "height": 265
        },
        "id": "mzyYujX6ngJ6",
        "outputId": "f5fa352c-220c-43c4-e14e-e26f9dfc659e"
      },
      "execution_count": null,
      "outputs": [
        {
          "output_type": "display_data",
          "data": {
            "image/png": "[encoded data removed]",
            "text/plain": [
              "<Figure size 432x288 with 1 Axes>"
            ]
          },
          "metadata": {
            "needs_background": "light"
          }
        }
      ]
    },
    {
      "cell_type": "code",
      "source": [
        "def predict_sentiment(text):\n",
        "    tw = tokenizer.texts_to_sequences([text])\n",
        "    tw = pad_sequences(tw,maxlen=200)\n",
        "    prediction = int(model.predict(tw).round().item())\n",
        "    print(\"Predicted label: \",sentiment_label[1][prediction])"
      ],
      "metadata": {
        "id": "sEDCzaoWoIyO"
      },
      "execution_count": null,
      "outputs": []
    },
    {
      "cell_type": "code",
      "source": [
        "test_sentence1 = \"average\"\n",
        "predict_sentiment(test_sentence1)"
      ],
      "metadata": {
        "colab": {
          "base_uri": "https://localhost:8080/"
        },
        "id": "LuItYI_Tplzp",
        "outputId": "ce3eeff9-c76a-49aa-d21a-0f3c74c633ae"
      },
      "execution_count": null,
      "outputs": [
        {
          "output_type": "stream",
          "name": "stdout",
          "text": [
            "Predicted label:  Negative\n"
          ]
        }
      ]
    },
    {
      "cell_type": "code",
      "source": [
        "test_sentence2 = \"best\"\n",
        "predict_sentiment(test_sentence2)"
      ],
      "metadata": {
        "colab": {
          "base_uri": "https://localhost:8080/"
        },
        "id": "ViwYLBT1p7VY",
        "outputId": "8d675794-a8ee-4d2d-c3cf-982f9bfc64a4"
      },
      "execution_count": null,
      "outputs": [
        {
          "output_type": "stream",
          "name": "stdout",
          "text": [
            "Predicted label:  Positive\n"
          ]
        }
      ]
    },
    {
      "cell_type": "code",
      "source": [
        "test_sentence3 = \"worst\"\n",
        "predict_sentiment(test_sentence3)"
      ],
      "metadata": {
        "id": "eAnaGDn_qHHf",
        "colab": {
          "base_uri": "https://localhost:8080/"
        },
        "outputId": "7ff5acc0-6ead-4dca-e67d-56dc45a53d2d"
      },
      "execution_count": null,
      "outputs": [
        {
          "output_type": "stream",
          "name": "stdout",
          "text": [
            "Predicted label:  Negative\n"
          ]
        }
      ]
    },
    {
      "cell_type": "code",
      "source": [
        "test_sentence4 = \"not bad\"\n",
        "predict_sentiment(test_sentence4)"
      ],
      "metadata": {
        "colab": {
          "base_uri": "https://localhost:8080/"
        },
        "id": "INK75v80aanU",
        "outputId": "1cbe9744-cb02-4114-94a7-5939bb8335ce"
      },
      "execution_count": null,
      "outputs": [
        {
          "output_type": "stream",
          "name": "stdout",
          "text": [
            "Predicted label:  Positive\n"
          ]
        }
      ]
    },
    {
      "cell_type": "code",
      "source": [
        "test_sentence5 = \"good\"\n",
        "predict_sentiment(test_sentence5)"
      ],
      "metadata": {
        "colab": {
          "base_uri": "https://localhost:8080/"
        },
        "id": "mqeeaqRWakWx",
        "outputId": "9ac1e2e4-42ed-4124-f623-2456b10b6dd5"
      },
      "execution_count": null,
      "outputs": [
        {
          "output_type": "stream",
          "name": "stdout",
          "text": [
            "Predicted label:  Positive\n"
          ]
        }
      ]
    }
  ]
}